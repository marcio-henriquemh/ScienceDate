{
 "cells": [
  {
   "cell_type": "code",
   "execution_count": 1,
   "id": "5b5ce9f1",
   "metadata": {},
   "outputs": [],
   "source": [
    "#Estudo de caso : Bioinformática - comparando genomas\n",
    "#fontes:Estrutura do DNA. Fonte: https://se.wikipedia.org/wiki/Fiila:Dna-base-flipping.svg\n",
    "#DNA é uma molécula presente em todos os seres vivos, que é responsável por armazenar as características hereditárias. Ela é composta por sequências de \n",
    "#nucleotídeos, que podem de quatro tipos: adenina, timina, citosina ou guanina. \n",
    "#bibliotecas\n",
    "import matplotlib.pyplot as plt"
   ]
  },
  {
   "cell_type": "code",
   "execution_count": 2,
   "id": "d8465bd8",
   "metadata": {},
   "outputs": [],
   "source": [
    "#coletando dados da bacteria\n",
    "entrada_dados=open(\"bacteria.fasta\").read()\n",
    "saida_dados=open(\"bacteria.html\",\"w\")\n",
    "#criando dicionário para combinação genética\n",
    "cont={}\n",
    "\n",
    "for i in ['A','T','C','G']:\n",
    "    for j in ['A','T','C','G']:\n",
    "        cont[i+j]=0\n",
    "\n",
    "entrada_dados=entrada_dados.replace(\"\\n\",\"\")       \n",
    " \n",
    "for k in range(len(entrada_dados)-1):\n",
    "    cont[entrada_dados[k]+entrada_dados[k+1]]+=1\n",
    "\n",
    "#html gerado para visualizar dados\n",
    "#saida_dados.write(\"<div>\")\n",
    "i=1\n",
    "\n",
    "for k in cont:\n",
    "        transpa=cont[k]/max(cont.values())\n",
    "\n",
    "        saida_dados.write(\"<div style='width:100px; border:1px solid #111; color:#fff; height:100px; float:left; background-color:rgba(0, 0, 0, \"+str(transpa)+\"')>\"+k+\"</div>\")\n",
    "      \n",
    "        \n",
    "\n",
    "        \n",
    "\n",
    "        if(i%4==0):\n",
    "            saida_dados.write(\"<div style='clear:both'></div>\")\n",
    "        i+=1\n",
    "saida_dados.close()"
   ]
  },
  {
   "cell_type": "code",
   "execution_count": 3,
   "id": "581c80a1",
   "metadata": {},
   "outputs": [],
   "source": [
    "#coletando dados do ser humano\n",
    "entrada_dados=open(\"human.fasta\").read()\n",
    "saida_dados=open(\"dados_humanos.html\",\"w\")\n",
    "#criando dicionário para combinação genética\n",
    "cont={}\n",
    "#fazendo for para buscar em cada interação com os dados\n",
    "for i in ['A','T','C','G']:\n",
    "    for j in ['A','T','C','G']:\n",
    "        cont[i+j]=0\n",
    "\n",
    "entrada_dados=entrada_dados.replace(\"\\n\",\"\")       \n",
    " \n",
    "for k in range(len(entrada_dados)-1):\n",
    "    cont[entrada_dados[k]+entrada_dados[k+1]]+=1\n",
    "\n",
    "#html gerado para visulalizar\n",
    "#saida_dados.write(\"<div>\")\n",
    "i=1\n",
    "\n",
    "for k in cont:\n",
    "        transpa=cont[k]/max(cont.values())\n",
    "\n",
    "        saida_dados.write(\"<div style='width:100px; border:1px solid #111; color:#fff; height:100px; float:left; background-color:rgba(0, 0, 0, \"+str(transpa)+\"')>\"+k+\"</div>\")\n",
    "      \n",
    "        \n",
    "\n",
    "        \n",
    "\n",
    "        if(i%4==0):\n",
    "                saida_dados.write(\"<div style='clear:both'></div>\")\n",
    "        i+=1\n",
    "saida_dados.close()"
   ]
  },
  {
   "cell_type": "code",
   "execution_count": null,
   "id": "a1f74e15",
   "metadata": {},
   "outputs": [],
   "source": [
    "\n",
    "\n"
   ]
  },
  {
   "cell_type": "code",
   "execution_count": null,
   "id": "997337ff",
   "metadata": {},
   "outputs": [],
   "source": []
  },
  {
   "cell_type": "code",
   "execution_count": null,
   "id": "fe2a2b88",
   "metadata": {},
   "outputs": [],
   "source": []
  }
 ],
 "metadata": {
  "kernelspec": {
   "display_name": "Python 3",
   "language": "python",
   "name": "python3"
  },
  "language_info": {
   "codemirror_mode": {
    "name": "ipython",
    "version": 3
   },
   "file_extension": ".py",
   "mimetype": "text/x-python",
   "name": "python",
   "nbconvert_exporter": "python",
   "pygments_lexer": "ipython3",
   "version": "3.6.9"
  }
 },
 "nbformat": 4,
 "nbformat_minor": 5
}
