{
 "cells": [
  {
   "cell_type": "code",
   "execution_count": 5,
   "id": "868e5078",
   "metadata": {},
   "outputs": [],
   "source": [
    "#Primeiro Projeto de Análise de Dados em Python\n",
    "#projeto visa analisar dados de cadastro de passagem escolar\n",
    "\n",
    "\n",
    "#importando as bibliotecas\n",
    "import pandas as pd\n",
    "import seaborn as srn\n",
    "import statistics as sts\n"
   ]
  },
  {
   "cell_type": "code",
   "execution_count": 6,
   "id": "3f9ce989",
   "metadata": {
    "scrolled": false
   },
   "outputs": [],
   "source": [
    "#carregando a dataset de dados\n",
    "#analisando dados de passagem escolar\n",
    "#atividade\n",
    "dataset=pd.read_csv(\"sae-passagens.csv\")"
   ]
  },
  {
   "cell_type": "code",
   "execution_count": 7,
   "id": "50b8b9e1",
   "metadata": {},
   "outputs": [
    {
     "data": {
      "text/plain": [
       "(55710, 8)"
      ]
     },
     "execution_count": 7,
     "metadata": {},
     "output_type": "execute_result"
    }
   ],
   "source": [
    "#visualizando dados\n",
    "dataset.shape"
   ]
  },
  {
   "cell_type": "code",
   "execution_count": 8,
   "id": "a3eb3969",
   "metadata": {},
   "outputs": [
    {
     "data": {
      "text/html": [
       "<div>\n",
       "<style scoped>\n",
       "    .dataframe tbody tr th:only-of-type {\n",
       "        vertical-align: middle;\n",
       "    }\n",
       "\n",
       "    .dataframe tbody tr th {\n",
       "        vertical-align: top;\n",
       "    }\n",
       "\n",
       "    .dataframe thead th {\n",
       "        text-align: right;\n",
       "    }\n",
       "</style>\n",
       "<table border=\"1\" class=\"dataframe\">\n",
       "  <thead>\n",
       "    <tr style=\"text-align: right;\">\n",
       "      <th></th>\n",
       "      <th>mm_periodo</th>\n",
       "      <th>aa_periodo</th>\n",
       "      <th>vl_mes</th>\n",
       "      <th>id_periodo_nae</th>\n",
       "      <th>dt_solicitacao</th>\n",
       "      <th>dt_lancamento_sis</th>\n",
       "      <th>id_pessoa_lancamento_sis</th>\n",
       "      <th>dt_cancelado</th>\n",
       "    </tr>\n",
       "  </thead>\n",
       "  <tbody>\n",
       "    <tr>\n",
       "      <th>0</th>\n",
       "      <td>11</td>\n",
       "      <td>2015</td>\n",
       "      <td>60.0</td>\n",
       "      <td>39.0</td>\n",
       "      <td>2015-11-04 00:01:30</td>\n",
       "      <td>2015-11-10 12:39:36</td>\n",
       "      <td>2295.0</td>\n",
       "      <td>NaN</td>\n",
       "    </tr>\n",
       "    <tr>\n",
       "      <th>1</th>\n",
       "      <td>11</td>\n",
       "      <td>2015</td>\n",
       "      <td>60.0</td>\n",
       "      <td>39.0</td>\n",
       "      <td>2015-11-04 00:02:53</td>\n",
       "      <td>2015-11-10 09:47:58</td>\n",
       "      <td>2295.0</td>\n",
       "      <td>NaN</td>\n",
       "    </tr>\n",
       "    <tr>\n",
       "      <th>2</th>\n",
       "      <td>11</td>\n",
       "      <td>2015</td>\n",
       "      <td>60.0</td>\n",
       "      <td>39.0</td>\n",
       "      <td>2015-11-04 00:04:40</td>\n",
       "      <td>2015-11-10 09:15:09</td>\n",
       "      <td>2295.0</td>\n",
       "      <td>NaN</td>\n",
       "    </tr>\n",
       "    <tr>\n",
       "      <th>3</th>\n",
       "      <td>11</td>\n",
       "      <td>2015</td>\n",
       "      <td>60.0</td>\n",
       "      <td>39.0</td>\n",
       "      <td>2015-11-04 00:06:58</td>\n",
       "      <td>2015-11-10 10:44:20</td>\n",
       "      <td>2295.0</td>\n",
       "      <td>NaN</td>\n",
       "    </tr>\n",
       "    <tr>\n",
       "      <th>4</th>\n",
       "      <td>11</td>\n",
       "      <td>2015</td>\n",
       "      <td>60.0</td>\n",
       "      <td>39.0</td>\n",
       "      <td>2015-11-04 00:10:40</td>\n",
       "      <td>2015-11-10 10:51:31</td>\n",
       "      <td>2295.0</td>\n",
       "      <td>NaN</td>\n",
       "    </tr>\n",
       "  </tbody>\n",
       "</table>\n",
       "</div>"
      ],
      "text/plain": [
       "   mm_periodo  aa_periodo  vl_mes  id_periodo_nae       dt_solicitacao  \\\n",
       "0          11        2015    60.0            39.0  2015-11-04 00:01:30   \n",
       "1          11        2015    60.0            39.0  2015-11-04 00:02:53   \n",
       "2          11        2015    60.0            39.0  2015-11-04 00:04:40   \n",
       "3          11        2015    60.0            39.0  2015-11-04 00:06:58   \n",
       "4          11        2015    60.0            39.0  2015-11-04 00:10:40   \n",
       "\n",
       "     dt_lancamento_sis  id_pessoa_lancamento_sis dt_cancelado  \n",
       "0  2015-11-10 12:39:36                    2295.0          NaN  \n",
       "1  2015-11-10 09:47:58                    2295.0          NaN  \n",
       "2  2015-11-10 09:15:09                    2295.0          NaN  \n",
       "3  2015-11-10 10:44:20                    2295.0          NaN  \n",
       "4  2015-11-10 10:51:31                    2295.0          NaN  "
      ]
     },
     "execution_count": 8,
     "metadata": {},
     "output_type": "execute_result"
    }
   ],
   "source": [
    "#exibindo nomes das colunas dos dados\n",
    "dataset.head()"
   ]
  },
  {
   "cell_type": "code",
   "execution_count": 17,
   "id": "42ae7fdc",
   "metadata": {},
   "outputs": [
    {
     "data": {
      "text/html": [
       "<div>\n",
       "<style scoped>\n",
       "    .dataframe tbody tr th:only-of-type {\n",
       "        vertical-align: middle;\n",
       "    }\n",
       "\n",
       "    .dataframe tbody tr th {\n",
       "        vertical-align: top;\n",
       "    }\n",
       "\n",
       "    .dataframe thead th {\n",
       "        text-align: right;\n",
       "    }\n",
       "</style>\n",
       "<table border=\"1\" class=\"dataframe\">\n",
       "  <thead>\n",
       "    <tr style=\"text-align: right;\">\n",
       "      <th></th>\n",
       "      <th>Mes_recarga</th>\n",
       "      <th>Ano_credito</th>\n",
       "      <th>valor_recarga</th>\n",
       "      <th>Id_aluno_nae</th>\n",
       "      <th>Solicitacao</th>\n",
       "      <th>Lançado_sistema</th>\n",
       "      <th>Id_aluno_lancado</th>\n",
       "      <th>media_valor_pass</th>\n",
       "    </tr>\n",
       "  </thead>\n",
       "  <tbody>\n",
       "    <tr>\n",
       "      <th>0</th>\n",
       "      <td>11</td>\n",
       "      <td>2015</td>\n",
       "      <td>60.0</td>\n",
       "      <td>39.0</td>\n",
       "      <td>2015-11-04 00:01:30</td>\n",
       "      <td>2015-11-10 12:39:36</td>\n",
       "      <td>2295.0</td>\n",
       "      <td>NaN</td>\n",
       "    </tr>\n",
       "    <tr>\n",
       "      <th>1</th>\n",
       "      <td>11</td>\n",
       "      <td>2015</td>\n",
       "      <td>60.0</td>\n",
       "      <td>39.0</td>\n",
       "      <td>2015-11-04 00:02:53</td>\n",
       "      <td>2015-11-10 09:47:58</td>\n",
       "      <td>2295.0</td>\n",
       "      <td>NaN</td>\n",
       "    </tr>\n",
       "    <tr>\n",
       "      <th>2</th>\n",
       "      <td>11</td>\n",
       "      <td>2015</td>\n",
       "      <td>60.0</td>\n",
       "      <td>39.0</td>\n",
       "      <td>2015-11-04 00:04:40</td>\n",
       "      <td>2015-11-10 09:15:09</td>\n",
       "      <td>2295.0</td>\n",
       "      <td>NaN</td>\n",
       "    </tr>\n",
       "    <tr>\n",
       "      <th>3</th>\n",
       "      <td>11</td>\n",
       "      <td>2015</td>\n",
       "      <td>60.0</td>\n",
       "      <td>39.0</td>\n",
       "      <td>2015-11-04 00:06:58</td>\n",
       "      <td>2015-11-10 10:44:20</td>\n",
       "      <td>2295.0</td>\n",
       "      <td>NaN</td>\n",
       "    </tr>\n",
       "    <tr>\n",
       "      <th>4</th>\n",
       "      <td>11</td>\n",
       "      <td>2015</td>\n",
       "      <td>60.0</td>\n",
       "      <td>39.0</td>\n",
       "      <td>2015-11-04 00:10:40</td>\n",
       "      <td>2015-11-10 10:51:31</td>\n",
       "      <td>2295.0</td>\n",
       "      <td>NaN</td>\n",
       "    </tr>\n",
       "  </tbody>\n",
       "</table>\n",
       "</div>"
      ],
      "text/plain": [
       "   Mes_recarga  Ano_credito  valor_recarga  Id_aluno_nae          Solicitacao  \\\n",
       "0           11         2015           60.0          39.0  2015-11-04 00:01:30   \n",
       "1           11         2015           60.0          39.0  2015-11-04 00:02:53   \n",
       "2           11         2015           60.0          39.0  2015-11-04 00:04:40   \n",
       "3           11         2015           60.0          39.0  2015-11-04 00:06:58   \n",
       "4           11         2015           60.0          39.0  2015-11-04 00:10:40   \n",
       "\n",
       "       Lançado_sistema  Id_aluno_lancado media_valor_pass  \n",
       "0  2015-11-10 12:39:36            2295.0              NaN  \n",
       "1  2015-11-10 09:47:58            2295.0              NaN  \n",
       "2  2015-11-10 09:15:09            2295.0              NaN  \n",
       "3  2015-11-10 10:44:20            2295.0              NaN  \n",
       "4  2015-11-10 10:51:31            2295.0              NaN  "
      ]
     },
     "execution_count": 17,
     "metadata": {},
     "output_type": "execute_result"
    }
   ],
   "source": [
    "\n",
    "\n",
    "dataset.columns=[\"Mes_recarga\",\"Ano_credito\",\"valor_recarga\",\"Id_aluno_nae\",\"Solicitacao\",\"Lançado_sistema\",\"Id_aluno_lancado\",\"media_valor_pass\",]\n",
    "\n",
    "\n",
    "#exibindo nomes das colunas dos dados\n",
    "dataset.head()"
   ]
  },
  {
   "cell_type": "code",
   "execution_count": 14,
   "id": "da66ef93",
   "metadata": {},
   "outputs": [
    {
     "data": {
      "text/plain": [
       "valor_recarga\n",
       "0.0       55\n",
       "1.0        1\n",
       "6.6        9\n",
       "6.8        6\n",
       "7.4        3\n",
       "        ... \n",
       "111.0    316\n",
       "115.2    238\n",
       "119.0      3\n",
       "120.0     13\n",
       "129.5      2\n",
       "Length: 96, dtype: int64"
      ]
     },
     "execution_count": 14,
     "metadata": {},
     "output_type": "execute_result"
    }
   ],
   "source": [
    "#analise exploratória\n",
    "#a partir da categoria\n",
    "agrupado= dataset.groupby(['valor_recarga']).size()\n",
    "agrupado"
   ]
  },
  {
   "cell_type": "code",
   "execution_count": 11,
   "id": "cb26b663",
   "metadata": {},
   "outputs": [
    {
     "data": {
      "text/plain": [
       "<AxesSubplot:xlabel='valor_recarga'>"
      ]
     },
     "execution_count": 11,
     "metadata": {},
     "output_type": "execute_result"
    },
    {
     "data": {
      "image/png": "[encoded data removed]",
      "text/plain": [
       "<Figure size 432x288 with 1 Axes>"
      ]
     },
     "metadata": {
      "needs_background": "light"
     },
     "output_type": "display_data"
    }
   ],
   "source": [
    "#Graficos da categoria avaliada\n",
    "\n",
    "agrupado.plot.bar(color='gray')"
   ]
  },
  {
   "cell_type": "code",
   "execution_count": 15,
   "id": "038827d5",
   "metadata": {},
   "outputs": [
    {
     "name": "stderr",
     "output_type": "stream",
     "text": [
      "/home/marcio/.espressif/python_env/idf4.3_py3.6_env/lib/python3.6/site-packages/seaborn/distributions.py:2557: FutureWarning: `distplot` is a deprecated function and will be removed in a future version. Please adapt your code to use either `displot` (a figure-level function with similar flexibility) or `histplot` (an axes-level function for histograms).\n",
      "  warnings.warn(msg, FutureWarning)\n"
     ]
    },
    {
     "data": {
      "text/plain": [
       "Text(0.5, 1.0, 'valor_recarga')"
      ]
     },
     "execution_count": 15,
     "metadata": {},
     "output_type": "execute_result"
    },
    {
     "data": {
      "image/png": "[encoded data removed]",
      "text/plain": [
       "<Figure size 432x288 with 1 Axes>"
      ]
     },
     "metadata": {
      "needs_background": "light"
     },
     "output_type": "display_data"
    }
   ],
   "source": [
    "#gráfico\n",
    "\n",
    "srn.distplot(dataset['valor_recarga']).set_title('valor_recarga')"
   ]
  },
  {
   "cell_type": "code",
   "execution_count": 19,
   "id": "6409d4db",
   "metadata": {},
   "outputs": [
    {
     "data": {
      "text/plain": [
       "count                      25\n",
       "unique                     25\n",
       "top       2016-09-01 09:00:13\n",
       "freq                        1\n",
       "Name: media_valor_pass, dtype: object"
      ]
     },
     "execution_count": 19,
     "metadata": {},
     "output_type": "execute_result"
    }
   ],
   "source": [
    "#explorando dados com colunas em cada categoria com medias ,mediana etc\n",
    "dataset['media_valor_pass'].describe()"
   ]
  },
  {
   "cell_type": "code",
   "execution_count": 22,
   "id": "a392e3c2",
   "metadata": {
    "collapsed": true
   },
   "outputs": [
    {
     "data": {
      "text/plain": [
       "66.0"
      ]
     },
     "execution_count": 22,
     "metadata": {},
     "output_type": "execute_result"
    }
   ],
   "source": [
    "#resolvendo problemas da NaNa nos dados das medias de passagem\n",
    "#calculando mediana\n",
    "mediana=sts.median(dataset['valor_recarga'])\n",
    "mediana"
   ]
  },
  {
   "cell_type": "code",
   "execution_count": 23,
   "id": "730c8d9c",
   "metadata": {},
   "outputs": [],
   "source": [
    "#substituindo o valor encontrado da mediana na coluna media_valor_pass\n",
    "dataset['media_valor_pass'].fillna(mediana,inplace=True)"
   ]
  },
  {
   "cell_type": "code",
   "execution_count": 25,
   "id": "5643a011",
   "metadata": {},
   "outputs": [
    {
     "data": {
      "text/plain": [
       "Mes_recarga           0\n",
       "Ano_credito           0\n",
       "valor_recarga       307\n",
       "Id_aluno_nae        126\n",
       "Solicitacao           0\n",
       "Lançado_sistema     307\n",
       "Id_aluno_lancado    307\n",
       "media_valor_pass      0\n",
       "dtype: int64"
      ]
     },
     "execution_count": 25,
     "metadata": {},
     "output_type": "execute_result"
    }
   ],
   "source": [
    "#verificando correção\n",
    "dataset.isnull().sum()"
   ]
  },
  {
   "cell_type": "raw",
   "id": "63cd911d",
   "metadata": {},
   "source": []
  },
  {
   "cell_type": "code",
   "execution_count": 26,
   "id": "e102d519",
   "metadata": {},
   "outputs": [
    {
     "data": {
      "text/html": [
       "<div>\n",
       "<style scoped>\n",
       "    .dataframe tbody tr th:only-of-type {\n",
       "        vertical-align: middle;\n",
       "    }\n",
       "\n",
       "    .dataframe tbody tr th {\n",
       "        vertical-align: top;\n",
       "    }\n",
       "\n",
       "    .dataframe thead th {\n",
       "        text-align: right;\n",
       "    }\n",
       "</style>\n",
       "<table border=\"1\" class=\"dataframe\">\n",
       "  <thead>\n",
       "    <tr style=\"text-align: right;\">\n",
       "      <th></th>\n",
       "      <th>Mes_recarga</th>\n",
       "      <th>Ano_credito</th>\n",
       "      <th>valor_recarga</th>\n",
       "      <th>Id_aluno_nae</th>\n",
       "      <th>Solicitacao</th>\n",
       "      <th>Lançado_sistema</th>\n",
       "      <th>Id_aluno_lancado</th>\n",
       "      <th>media_valor_pass</th>\n",
       "    </tr>\n",
       "  </thead>\n",
       "  <tbody>\n",
       "    <tr>\n",
       "      <th>0</th>\n",
       "      <td>11</td>\n",
       "      <td>2015</td>\n",
       "      <td>60.0</td>\n",
       "      <td>39.0</td>\n",
       "      <td>2015-11-04 00:01:30</td>\n",
       "      <td>2015-11-10 12:39:36</td>\n",
       "      <td>2295.0</td>\n",
       "      <td>66</td>\n",
       "    </tr>\n",
       "    <tr>\n",
       "      <th>1</th>\n",
       "      <td>11</td>\n",
       "      <td>2015</td>\n",
       "      <td>60.0</td>\n",
       "      <td>39.0</td>\n",
       "      <td>2015-11-04 00:02:53</td>\n",
       "      <td>2015-11-10 09:47:58</td>\n",
       "      <td>2295.0</td>\n",
       "      <td>66</td>\n",
       "    </tr>\n",
       "    <tr>\n",
       "      <th>2</th>\n",
       "      <td>11</td>\n",
       "      <td>2015</td>\n",
       "      <td>60.0</td>\n",
       "      <td>39.0</td>\n",
       "      <td>2015-11-04 00:04:40</td>\n",
       "      <td>2015-11-10 09:15:09</td>\n",
       "      <td>2295.0</td>\n",
       "      <td>66</td>\n",
       "    </tr>\n",
       "    <tr>\n",
       "      <th>3</th>\n",
       "      <td>11</td>\n",
       "      <td>2015</td>\n",
       "      <td>60.0</td>\n",
       "      <td>39.0</td>\n",
       "      <td>2015-11-04 00:06:58</td>\n",
       "      <td>2015-11-10 10:44:20</td>\n",
       "      <td>2295.0</td>\n",
       "      <td>66</td>\n",
       "    </tr>\n",
       "    <tr>\n",
       "      <th>4</th>\n",
       "      <td>11</td>\n",
       "      <td>2015</td>\n",
       "      <td>60.0</td>\n",
       "      <td>39.0</td>\n",
       "      <td>2015-11-04 00:10:40</td>\n",
       "      <td>2015-11-10 10:51:31</td>\n",
       "      <td>2295.0</td>\n",
       "      <td>66</td>\n",
       "    </tr>\n",
       "  </tbody>\n",
       "</table>\n",
       "</div>"
      ],
      "text/plain": [
       "   Mes_recarga  Ano_credito  valor_recarga  Id_aluno_nae          Solicitacao  \\\n",
       "0           11         2015           60.0          39.0  2015-11-04 00:01:30   \n",
       "1           11         2015           60.0          39.0  2015-11-04 00:02:53   \n",
       "2           11         2015           60.0          39.0  2015-11-04 00:04:40   \n",
       "3           11         2015           60.0          39.0  2015-11-04 00:06:58   \n",
       "4           11         2015           60.0          39.0  2015-11-04 00:10:40   \n",
       "\n",
       "       Lançado_sistema  Id_aluno_lancado media_valor_pass  \n",
       "0  2015-11-10 12:39:36            2295.0               66  \n",
       "1  2015-11-10 09:47:58            2295.0               66  \n",
       "2  2015-11-10 09:15:09            2295.0               66  \n",
       "3  2015-11-10 10:44:20            2295.0               66  \n",
       "4  2015-11-10 10:51:31            2295.0               66  "
      ]
     },
     "execution_count": 26,
     "metadata": {},
     "output_type": "execute_result"
    }
   ],
   "source": [
    "#visualizar dados novamente\n",
    "dataset.head()"
   ]
  },
  {
   "cell_type": "code",
   "execution_count": null,
   "id": "823b044a",
   "metadata": {},
   "outputs": [],
   "source": []
  }
 ],
 "metadata": {
  "kernelspec": {
   "display_name": "Python 3",
   "language": "python",
   "name": "python3"
  },
  "language_info": {
   "codemirror_mode": {
    "name": "ipython",
    "version": 3
   },
   "file_extension": ".py",
   "mimetype": "text/x-python",
   "name": "python",
   "nbconvert_exporter": "python",
   "pygments_lexer": "ipython3",
   "version": "3.6.9"
  }
 },
 "nbformat": 4,
 "nbformat_minor": 5
}
